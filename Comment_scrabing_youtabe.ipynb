{
 "cells": [
  {
   "cell_type": "code",
   "execution_count": 12,
   "metadata": {},
   "outputs": [],
   "source": [
    "import googleapiclient.discovery\n",
    "import pandas as pf\n",
    "import schedule\n",
    "import time"
   ]
  },
  {
   "cell_type": "code",
   "execution_count": 37,
   "id": "d0702fa8",
   "metadata": {},
   "outputs": [],
   "source": [
    "api_service_name = \"youtube\"\n",
    "api_version = \"v3\"\n",
    "DEVELOPER_KEY = \"\"\n",
    "\n",
    "youtube = googleapiclient.discovery.build(\n",
    "    api_service_name, api_version, developerKey=DEVELOPER_KEY)\n",
    "\n",
    "request = youtube.commentThreads().list(\n",
    "    part=\"snippet\",\n",
    "    videoId=\"1rRzZmMG364\",\n",
    "    maxResults=50000\n",
    ")\n",
    "\n",
    "response = request.execute()\n",
    "\n",
    "comments = []\n",
    "\n",
    "for item in response['items']:\n",
    "    comment = item['snippet']['topLevelComment']['snippet']\n",
    "    comments.append([\n",
    "        comment['authorDisplayName'],\n",
    "        comment['publishedAt'],\n",
    "        comment['updatedAt'],\n",
    "        comment['likeCount'],\n",
    "        comment['textDisplay']\n",
    "    ])  \n",
    "    \n",
    "    \n",
    "    \n",
    "df = pd.DataFrame(comments, columns=['author', 'published_at', 'updated_at', 'like_count', 'text' ])\n",
    "   "
   ]
  },
  {
   "cell_type": "code",
   "execution_count": 38,
   "id": "fa1fac53",
   "metadata": {},
   "outputs": [
    {
     "data": {
      "text/html": [
       "<div>\n",
       "<style scoped>\n",
       "    .dataframe tbody tr th:only-of-type {\n",
       "        vertical-align: middle;\n",
       "    }\n",
       "\n",
       "    .dataframe tbody tr th {\n",
       "        vertical-align: top;\n",
       "    }\n",
       "\n",
       "    .dataframe thead th {\n",
       "        text-align: right;\n",
       "    }\n",
       "</style>\n",
       "<table border=\"1\" class=\"dataframe\">\n",
       "  <thead>\n",
       "    <tr style=\"text-align: right;\">\n",
       "      <th></th>\n",
       "      <th>author</th>\n",
       "      <th>published_at</th>\n",
       "      <th>updated_at</th>\n",
       "      <th>like_count</th>\n",
       "      <th>text</th>\n",
       "    </tr>\n",
       "  </thead>\n",
       "  <tbody>\n",
       "    <tr>\n",
       "      <th>95</th>\n",
       "      <td>@yusufsupiana2768</td>\n",
       "      <td>2023-11-30T12:56:38Z</td>\n",
       "      <td>2023-11-30T12:56:38Z</td>\n",
       "      <td>1</td>\n",
       "      <td>Semoga tetap jadi keluarga yg sakinah....  dan...</td>\n",
       "    </tr>\n",
       "    <tr>\n",
       "      <th>96</th>\n",
       "      <td>@seskasandrina4582</td>\n",
       "      <td>2023-11-30T12:52:40Z</td>\n",
       "      <td>2023-11-30T12:53:25Z</td>\n",
       "      <td>1</td>\n",
       "      <td>Suka Ketawa Liat tingkah Lucu Baby El😂😂😂😂😂&lt;br&gt;...</td>\n",
       "    </tr>\n",
       "    <tr>\n",
       "      <th>97</th>\n",
       "      <td>@jenypuspita3880</td>\n",
       "      <td>2023-11-30T12:27:45Z</td>\n",
       "      <td>2023-11-30T12:27:45Z</td>\n",
       "      <td>1</td>\n",
       "      <td>Masyaallah ....wjh bilar sm dhe2k lesti skrg m...</td>\n",
       "    </tr>\n",
       "    <tr>\n",
       "      <th>98</th>\n",
       "      <td>@teduhankasih3962</td>\n",
       "      <td>2023-11-30T12:05:49Z</td>\n",
       "      <td>2023-11-30T12:05:49Z</td>\n",
       "      <td>0</td>\n",
       "      <td>Sukses selalu leslar dan org2 baik</td>\n",
       "    </tr>\n",
       "    <tr>\n",
       "      <th>99</th>\n",
       "      <td>@daryatiaja9765</td>\n",
       "      <td>2023-11-30T12:01:10Z</td>\n",
       "      <td>2023-11-30T12:01:10Z</td>\n",
       "      <td>0</td>\n",
       "      <td>Masyaallah baby&amp;quot; Gemes n lucu amena, abang L</td>\n",
       "    </tr>\n",
       "  </tbody>\n",
       "</table>\n",
       "</div>"
      ],
      "text/plain": [
       "                author          published_at            updated_at  \\\n",
       "95   @yusufsupiana2768  2023-11-30T12:56:38Z  2023-11-30T12:56:38Z   \n",
       "96  @seskasandrina4582  2023-11-30T12:52:40Z  2023-11-30T12:53:25Z   \n",
       "97    @jenypuspita3880  2023-11-30T12:27:45Z  2023-11-30T12:27:45Z   \n",
       "98   @teduhankasih3962  2023-11-30T12:05:49Z  2023-11-30T12:05:49Z   \n",
       "99     @daryatiaja9765  2023-11-30T12:01:10Z  2023-11-30T12:01:10Z   \n",
       "\n",
       "    like_count                                               text  \n",
       "95           1  Semoga tetap jadi keluarga yg sakinah....  dan...  \n",
       "96           1  Suka Ketawa Liat tingkah Lucu Baby El😂😂😂😂😂<br>...  \n",
       "97           1  Masyaallah ....wjh bilar sm dhe2k lesti skrg m...  \n",
       "98           0                 Sukses selalu leslar dan org2 baik  \n",
       "99           0  Masyaallah baby&quot; Gemes n lucu amena, abang L  "
      ]
     },
     "execution_count": 38,
     "metadata": {},
     "output_type": "execute_result"
    }
   ],
   "source": [
    "df.tail()"
   ]
  },
  {
   "cell_type": "code",
   "execution_count": 39,
   "id": "70f131ec",
   "metadata": {},
   "outputs": [],
   "source": []
  },
  {
   "cell_type": "code",
   "execution_count": 44,
   "id": "19dcc3c6",
   "metadata": {},
   "outputs": [],
   "source": [
    "df.to_csv('data_centiment_analysis.xlxs')"
   ]
  },
  {
   "cell_type": "code",
   "execution_count": null,
   "id": "0ed37bd3",
   "metadata": {},
   "outputs": [],
   "source": []
  }
 ],
 "metadata": {
  "kernelspec": {
   "display_name": "tf",
   "language": "python",
   "name": "python3"
  },
  "language_info": {
   "codemirror_mode": {
    "name": "ipython",
    "version": 3
   },
   "file_extension": ".py",
   "mimetype": "text/x-python",
   "name": "python",
   "nbconvert_exporter": "python",
   "pygments_lexer": "ipython3",
   "version": "3.11.5"
  }
 },
 "nbformat": 4,
 "nbformat_minor": 5
}
