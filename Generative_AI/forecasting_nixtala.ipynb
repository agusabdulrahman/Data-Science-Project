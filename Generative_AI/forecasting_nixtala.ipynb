{
 "cells": [
  {
   "cell_type": "code",
   "execution_count": 2,
   "metadata": {},
   "outputs": [
    {
     "ename": "ModuleNotFoundError",
     "evalue": "No module named 'nixtla'",
     "output_type": "error",
     "traceback": [
      "\u001b[1;31m---------------------------------------------------------------------------\u001b[0m",
      "\u001b[1;31mModuleNotFoundError\u001b[0m                       Traceback (most recent call last)",
      "Cell \u001b[1;32mIn[2], line 2\u001b[0m\n\u001b[0;32m      1\u001b[0m \u001b[38;5;28;01mimport\u001b[39;00m \u001b[38;5;21;01mpandas\u001b[39;00m \u001b[38;5;28;01mas\u001b[39;00m \u001b[38;5;21;01mpd\u001b[39;00m\n\u001b[1;32m----> 2\u001b[0m \u001b[38;5;28;01mfrom\u001b[39;00m \u001b[38;5;21;01mnixtla\u001b[39;00m \u001b[38;5;28;01mimport\u001b[39;00m NixtlaClient\n",
      "\u001b[1;31mModuleNotFoundError\u001b[0m: No module named 'nixtla'"
     ]
    }
   ],
   "source": [
    "import pandas as pd\n",
    "from nixtla import NixtlaClient"
   ]
  },
  {
   "cell_type": "code",
   "execution_count": null,
   "metadata": {},
   "outputs": [],
   "source": [
    "nixtla_client = NixtlaClient(\n",
    "    api_key = 'nixak-EEFnkJuPIfYvAWrbgnEjMG4jCNDHfUHNPULb8JMfpr3nf6hH1J5bkIBO7tY2Wlp3l3SEbekAuTGv7YDv'\n",
    ")"
   ]
  },
  {
   "cell_type": "code",
   "execution_count": 6,
   "metadata": {},
   "outputs": [
    {
     "data": {
      "text/html": [
       "<div>\n",
       "<style scoped>\n",
       "    .dataframe tbody tr th:only-of-type {\n",
       "        vertical-align: middle;\n",
       "    }\n",
       "\n",
       "    .dataframe tbody tr th {\n",
       "        vertical-align: top;\n",
       "    }\n",
       "\n",
       "    .dataframe thead th {\n",
       "        text-align: right;\n",
       "    }\n",
       "</style>\n",
       "<table border=\"1\" class=\"dataframe\">\n",
       "  <thead>\n",
       "    <tr style=\"text-align: right;\">\n",
       "      <th></th>\n",
       "      <th>Tanggal</th>\n",
       "      <th>Terakhir</th>\n",
       "      <th>Pembukaan</th>\n",
       "      <th>Tertinggi</th>\n",
       "      <th>Terendah</th>\n",
       "      <th>Vol.</th>\n",
       "      <th>Perubahan%</th>\n",
       "    </tr>\n",
       "  </thead>\n",
       "  <tbody>\n",
       "    <tr>\n",
       "      <th>0</th>\n",
       "      <td>13/12/2024</td>\n",
       "      <td>2.675,80</td>\n",
       "      <td>2.666,10</td>\n",
       "      <td>2.716,36</td>\n",
       "      <td>2.665,90</td>\n",
       "      <td>173,38K</td>\n",
       "      <td>-1,24%</td>\n",
       "    </tr>\n",
       "    <tr>\n",
       "      <th>1</th>\n",
       "      <td>12/12/2024</td>\n",
       "      <td>2.709,40</td>\n",
       "      <td>2.753,60</td>\n",
       "      <td>2.761,30</td>\n",
       "      <td>2.696,70</td>\n",
       "      <td>219,47K</td>\n",
       "      <td>-1,72%</td>\n",
       "    </tr>\n",
       "    <tr>\n",
       "      <th>2</th>\n",
       "      <td>11/12/2024</td>\n",
       "      <td>2.756,70</td>\n",
       "      <td>2.721,20</td>\n",
       "      <td>2.759,70</td>\n",
       "      <td>2.719,10</td>\n",
       "      <td>264,99K</td>\n",
       "      <td>1,41%</td>\n",
       "    </tr>\n",
       "    <tr>\n",
       "      <th>3</th>\n",
       "      <td>10/12/2024</td>\n",
       "      <td>2.718,40</td>\n",
       "      <td>2.684,40</td>\n",
       "      <td>2.721,70</td>\n",
       "      <td>2.680,70</td>\n",
       "      <td>181,51K</td>\n",
       "      <td>1,21%</td>\n",
       "    </tr>\n",
       "    <tr>\n",
       "      <th>4</th>\n",
       "      <td>09/12/2024</td>\n",
       "      <td>2.685,80</td>\n",
       "      <td>2.665,00</td>\n",
       "      <td>2.700,00</td>\n",
       "      <td>2.649,70</td>\n",
       "      <td>182,15K</td>\n",
       "      <td>0,99%</td>\n",
       "    </tr>\n",
       "  </tbody>\n",
       "</table>\n",
       "</div>"
      ],
      "text/plain": [
       "      Tanggal  Terakhir Pembukaan Tertinggi  Terendah     Vol. Perubahan%\n",
       "0  13/12/2024  2.675,80  2.666,10  2.716,36  2.665,90  173,38K     -1,24%\n",
       "1  12/12/2024  2.709,40  2.753,60  2.761,30  2.696,70  219,47K     -1,72%\n",
       "2  11/12/2024  2.756,70  2.721,20  2.759,70  2.719,10  264,99K      1,41%\n",
       "3  10/12/2024  2.718,40  2.684,40  2.721,70  2.680,70  181,51K      1,21%\n",
       "4  09/12/2024  2.685,80  2.665,00  2.700,00  2.649,70  182,15K      0,99%"
      ]
     },
     "execution_count": 6,
     "metadata": {},
     "output_type": "execute_result"
    }
   ],
   "source": [
    "df = pd.read_csv('./dataset/Data Historis Emas Berjangka.csv')\n",
    "df.head()"
   ]
  },
  {
   "cell_type": "code",
   "execution_count": null,
   "metadata": {},
   "outputs": [],
   "source": [
    "len(df)"
   ]
  },
  {
   "cell_type": "code",
   "execution_count": null,
   "metadata": {},
   "outputs": [],
   "source": []
  }
 ],
 "metadata": {
  "kernelspec": {
   "display_name": "llm",
   "language": "python",
   "name": "python3"
  },
  "language_info": {
   "codemirror_mode": {
    "name": "ipython",
    "version": 3
   },
   "file_extension": ".py",
   "mimetype": "text/x-python",
   "name": "python",
   "nbconvert_exporter": "python",
   "pygments_lexer": "ipython3",
   "version": "3.12.4"
  }
 },
 "nbformat": 4,
 "nbformat_minor": 2
}
