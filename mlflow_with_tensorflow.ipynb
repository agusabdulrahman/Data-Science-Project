{
  "cells": [
    {
      "cell_type": "markdown",
      "metadata": {
        "colab_type": "text",
        "id": "view-in-github"
      },
      "source": [
        "<a href=\"https://colab.research.google.com/github/agusabdulrahman/Data-Science-Project/blob/main/mlflow_with_tensorflow.ipynb\" target=\"_parent\"><img src=\"https://colab.research.google.com/assets/colab-badge.svg\" alt=\"Open In Colab\"/></a>"
      ]
    },
    {
      "cell_type": "code",
      "execution_count": 1,
      "metadata": {
        "colab": {
          "base_uri": "https://localhost:8080/"
        },
        "id": "1bg05hpYN1f0",
        "outputId": "40fa6dcf-50a8-4492-ec20-b4feed7e2af3"
      },
      "outputs": [
        {
          "name": "stdout",
          "output_type": "stream",
          "text": [
            "\u001b[2K   \u001b[90m━━━━━━━━━━━━━━━━━━━━━━━━━━━━━━━━━━━━━━━━\u001b[0m \u001b[32m26.3/26.3 MB\u001b[0m \u001b[31m40.7 MB/s\u001b[0m eta \u001b[36m0:00:00\u001b[0m\n",
            "\u001b[2K   \u001b[90m━━━━━━━━━━━━━━━━━━━━━━━━━━━━━━━━━━━━━━━━\u001b[0m \u001b[32m5.5/5.5 MB\u001b[0m \u001b[31m24.4 MB/s\u001b[0m eta \u001b[36m0:00:00\u001b[0m\n",
            "\u001b[2K   \u001b[90m━━━━━━━━━━━━━━━━━━━━━━━━━━━━━━━━━━━━━━━━\u001b[0m \u001b[32m233.0/233.0 kB\u001b[0m \u001b[31m4.3 MB/s\u001b[0m eta \u001b[36m0:00:00\u001b[0m\n",
            "\u001b[2K   \u001b[90m━━━━━━━━━━━━━━━━━━━━━━━━━━━━━━━━━━━━━━━━\u001b[0m \u001b[32m147.8/147.8 kB\u001b[0m \u001b[31m5.9 MB/s\u001b[0m eta \u001b[36m0:00:00\u001b[0m\n",
            "\u001b[2K   \u001b[90m━━━━━━━━━━━━━━━━━━━━━━━━━━━━━━━━━━━━━━━━\u001b[0m \u001b[32m128.2/128.2 kB\u001b[0m \u001b[31m3.1 MB/s\u001b[0m eta \u001b[36m0:00:00\u001b[0m\n",
            "\u001b[2K   \u001b[90m━━━━━━━━━━━━━━━━━━━━━━━━━━━━━━━━━━━━━━━━\u001b[0m \u001b[32m84.4/84.4 kB\u001b[0m \u001b[31m3.6 MB/s\u001b[0m eta \u001b[36m0:00:00\u001b[0m\n",
            "\u001b[2K   \u001b[90m━━━━━━━━━━━━━━━━━━━━━━━━━━━━━━━━━━━━━━━━\u001b[0m \u001b[32m52.8/52.8 kB\u001b[0m \u001b[31m2.2 MB/s\u001b[0m eta \u001b[36m0:00:00\u001b[0m\n",
            "\u001b[2K   \u001b[90m━━━━━━━━━━━━━━━━━━━━━━━━━━━━━━━━━━━━━━━━\u001b[0m \u001b[32m545.5/545.5 kB\u001b[0m \u001b[31m7.6 MB/s\u001b[0m eta \u001b[36m0:00:00\u001b[0m\n",
            "\u001b[2K   \u001b[90m━━━━━━━━━━━━━━━━━━━━━━━━━━━━━━━━━━━━━━━━\u001b[0m \u001b[32m207.3/207.3 kB\u001b[0m \u001b[31m7.0 MB/s\u001b[0m eta \u001b[36m0:00:00\u001b[0m\n",
            "\u001b[2K   \u001b[90m━━━━━━━━━━━━━━━━━━━━━━━━━━━━━━━━━━━━━━━━\u001b[0m \u001b[32m202.9/202.9 kB\u001b[0m \u001b[31m6.9 MB/s\u001b[0m eta \u001b[36m0:00:00\u001b[0m\n",
            "\u001b[2K   \u001b[90m━━━━━━━━━━━━━━━━━━━━━━━━━━━━━━━━━━━━━━━━\u001b[0m \u001b[32m61.5/61.5 kB\u001b[0m \u001b[31m3.2 MB/s\u001b[0m eta \u001b[36m0:00:00\u001b[0m\n",
            "\u001b[2K   \u001b[90m━━━━━━━━━━━━━━━━━━━━━━━━━━━━━━━━━━━━━━━━\u001b[0m \u001b[32m109.5/109.5 kB\u001b[0m \u001b[31m5.7 MB/s\u001b[0m eta \u001b[36m0:00:00\u001b[0m\n",
            "\u001b[2K   \u001b[90m━━━━━━━━━━━━━━━━━━━━━━━━━━━━━━━━━━━━━━━━\u001b[0m \u001b[32m138.0/138.0 kB\u001b[0m \u001b[31m4.5 MB/s\u001b[0m eta \u001b[36m0:00:00\u001b[0m\n",
            "\u001b[2K   \u001b[90m━━━━━━━━━━━━━━━━━━━━━━━━━━━━━━━━━━━━━━━━\u001b[0m \u001b[32m78.6/78.6 kB\u001b[0m \u001b[31m3.5 MB/s\u001b[0m eta \u001b[36m0:00:00\u001b[0m\n",
            "\u001b[2K   \u001b[90m━━━━━━━━━━━━━━━━━━━━━━━━━━━━━━━━━━━━━━━━\u001b[0m \u001b[32m62.7/62.7 kB\u001b[0m \u001b[31m941.0 kB/s\u001b[0m eta \u001b[36m0:00:00\u001b[0m\n",
            "\u001b[?25h"
          ]
        }
      ],
      "source": [
        "!pip install -q mlflow"
      ]
    },
    {
      "cell_type": "code",
      "execution_count": 2,
      "metadata": {
        "id": "fYXqdjX2OeOV"
      },
      "outputs": [],
      "source": [
        "import tensorflow as tf\n",
        "import tensorflow_datasets as tfds\n",
        "from tensorflow import keras\n"
      ]
    },
    {
      "cell_type": "markdown",
      "metadata": {
        "id": "J8OtdtvIOsc3"
      },
      "source": [
        "## Load the dataset"
      ]
    },
    {
      "cell_type": "code",
      "execution_count": 3,
      "metadata": {
        "colab": {
          "base_uri": "https://localhost:8080/",
          "height": 85,
          "referenced_widgets": [
            "a0434568a93444a2a27639faea703dc4",
            "a360cbc4eccd4bb7b319ea44758861c7",
            "88216bc8e37940baae78e1f1f3c3095f",
            "0ed03b86ba0b46cb9d64d455b966a956",
            "46186e489ed446b19835b490ea8d4a52",
            "5f3419d2ca8c47cc9d4b5d520f0dbf8e",
            "3eb1a7d6683141879d2880586eb0f92a",
            "039cdea2d3714923a09eceeb58098ea2",
            "49aa0541283549cbb773305c25147c8d",
            "4a1e035476fe4d8d97dc34eb44bbfa1a",
            "d58f09059a2b4d1f8e43a179ba0ae1b9"
          ]
        },
        "id": "dwNX14KZOq86",
        "outputId": "d09feb50-1dee-48ac-d7a7-6473b3fd51ac"
      },
      "outputs": [
        {
          "name": "stdout",
          "output_type": "stream",
          "text": [
            "Downloading and preparing dataset 11.06 MiB (download: 11.06 MiB, generated: 21.00 MiB, total: 32.06 MiB) to /root/tensorflow_datasets/mnist/3.0.1...\n"
          ]
        },
        {
          "data": {
            "application/vnd.jupyter.widget-view+json": {
              "model_id": "a0434568a93444a2a27639faea703dc4",
              "version_major": 2,
              "version_minor": 0
            },
            "text/plain": [
              "Dl Completed...:   0%|          | 0/5 [00:00<?, ? file/s]"
            ]
          },
          "metadata": {},
          "output_type": "display_data"
        },
        {
          "name": "stdout",
          "output_type": "stream",
          "text": [
            "Dataset mnist downloaded and prepared to /root/tensorflow_datasets/mnist/3.0.1. Subsequent calls will reuse this data.\n"
          ]
        }
      ],
      "source": [
        "# load dataset\n",
        "train_ds, test_ds = tfds.load(\n",
        "    'mnist',\n",
        "    split=['train', 'test'],\n",
        "    shuffle_files=True\n",
        ")"
      ]
    },
    {
      "cell_type": "code",
      "execution_count": 7,
      "metadata": {
        "id": "kMmgXeR3PAoI"
      },
      "outputs": [],
      "source": [
        "def preprocess_fn(data):\n",
        "  image = tf.cast(data['image'], tf.float32) / 255\n",
        "  label = data['label']\n",
        "  return image, label"
      ]
    },
    {
      "cell_type": "code",
      "execution_count": 8,
      "metadata": {
        "id": "DNh1xjMkPVAf"
      },
      "outputs": [],
      "source": [
        "train_ds = train_ds.map(preprocess_fn).batch(128).prefetch(tf.data.AUTOTUNE)\n",
        "test_ds = test_ds.map(preprocess_fn).batch(128).prefetch(tf.data.AUTOTUNE)"
      ]
    },
    {
      "cell_type": "markdown",
      "metadata": {
        "id": "YOGhAtVwPxUG"
      },
      "source": [
        "## Define the model"
      ]
    },
    {
      "cell_type": "code",
      "execution_count": 9,
      "metadata": {
        "id": "oLL4cW1YQHz-"
      },
      "outputs": [],
      "source": [
        "input_shape = (28, 28, 1)\n",
        "num_classes = 10\n",
        "\n",
        "model = keras.Sequential(\n",
        "    [\n",
        "    keras.Input(shape=input_shape),\n",
        "    keras.layers.Conv2D(32, kernel_size=(3, 3), activation=\"relu\"),\n",
        "    keras.layers.MaxPooling2D(pool_size=(3, 2)),\n",
        "    keras.layers.Conv2D(64, kernel_size=(3, 3), activation=\"relu\"),\n",
        "    keras.layers.MaxPooling2D(pool_size=(2, 2)),\n",
        "    keras.layers.Flatten(),\n",
        "    keras.layers.Dropout(0.5),\n",
        "    keras.layers.Dense(num_classes, activation=\"softmax\")\n",
        "  ]\n",
        ")"
      ]
    },
    {
      "cell_type": "code",
      "execution_count": 11,
      "metadata": {
        "id": "GBDaGEIERcoY"
      },
      "outputs": [],
      "source": [
        "model.compile(\n",
        "    loss=keras.losses.SparseCategoricalCrossentropy(),\n",
        "    optimizer=keras.optimizers.Adam(learning_rate=0.001),\n",
        "    metrics=[keras.metrics.SparseCategoricalAccuracy()]\n",
        ")"
      ]
    },
    {
      "cell_type": "code",
      "execution_count": null,
      "metadata": {
        "id": "fsEjhWSmRf0g"
      },
      "outputs": [],
      "source": []
    },
    {
      "cell_type": "markdown",
      "metadata": {
        "id": "R0Ya8rMKR8xt"
      },
      "source": [
        "## Set up tracking/visualization tool\n"
      ]
    },
    {
      "cell_type": "code",
      "execution_count": 18,
      "metadata": {
        "colab": {
          "base_uri": "https://localhost:8080/"
        },
        "id": "5WSPimsDR9hU",
        "outputId": "db413aac-6844-478a-8fcb-d675c22c30f4"
      },
      "outputs": [
        {
          "name": "stderr",
          "output_type": "stream",
          "text": [
            "2024/08/28 14:16:01 INFO mlflow.utils.credentials: No valid Databricks credentials found, please enter your credentials...\n"
          ]
        },
        {
          "name": "stdout",
          "output_type": "stream",
          "text": [
            "Databricks Host (should begin with https://): https://community.cloud.databricks.com/\n",
            "Username: agusarhn@gmail.com\n",
            "Password: ··········\n"
          ]
        },
        {
          "name": "stderr",
          "output_type": "stream",
          "text": [
            "2024/08/28 14:22:18 INFO mlflow.utils.credentials: Successfully connected to MLflow hosted tracking server! Host: https://community.cloud.databricks.com.\n"
          ]
        }
      ],
      "source": [
        "import mlflow\n",
        "mlflow.login()"
      ]
    },
    {
      "cell_type": "code",
      "execution_count": 19,
      "metadata": {
        "colab": {
          "base_uri": "https://localhost:8080/",
          "height": 429,
          "referenced_widgets": [
            "4d17e85feaf04d979401e1d091fe419d",
            "e489c33d2a074e60805177f2ff877b80",
            "75fb1a9e711c4aa0a658d1f448be7f0a",
            "bee79257d73946f2b34c87ca96d678c8",
            "7501d46440c540e7bb91b5985b3a24fa",
            "84d9e20265c34a7692188b82e8ac2206",
            "e3811553e6d14579ae35ef5ed9d2f0a2",
            "f4b6d7c607984208893a52faa5b95763",
            "9a5827ce486e4d4fae8dc4382a9eaa67",
            "3091a071d9fa4f4f88f93148776fbb8e",
            "2e7c2cd35f79495ca7c856f566b16a8b",
            "a4d93e9384fc45d7a85dee5bd480cb99",
            "fc9d40b9093e404a89ede65753c4560d",
            "379fdb87c62748f7b1a93ca36fe45fc7",
            "7e197a54910c4755be9d3475f942204b",
            "9b7b432c15b1407c837c06b945cd5fe6",
            "9bfc40ab2dfc4962ba5d3ea7992eff48",
            "02ec70e205864c0c90efa9816fedc572",
            "e5b145bbca9146419f9bd79100549148",
            "81cb1785f5a34e9b8b18f12d747867c9",
            "3b37081c8a604a52912e6143874ce742",
            "a7d13e60fe2742389a6500d9588c45b2"
          ]
        },
        "id": "2VqgxJVJUtlR",
        "outputId": "4bd7d297-15f9-4fdb-e3cc-ec2e2b21348b"
      },
      "outputs": [
        {
          "name": "stderr",
          "output_type": "stream",
          "text": [
            "2024/08/28 14:22:27 INFO mlflow.tracking.fluent: Experiment with name '/mlflow-tf-keras-mnist' does not exist. Creating a new experiment.\n",
            "2024/08/28 14:22:29 INFO mlflow.utils.autologging_utils: Created MLflow autologging run with ID 'ba6d190013964d4a97009ab438f0be80', which will track hyperparameters, performance metrics, model artifacts, and lineage information for the current tensorflow workflow\n"
          ]
        },
        {
          "data": {
            "text/html": [
              "<pre style=\"white-space:pre;overflow-x:auto;line-height:normal;font-family:Menlo,'DejaVu Sans Mono',consolas,'Courier New',monospace\"></pre>\n"
            ],
            "text/plain": []
          },
          "metadata": {},
          "output_type": "display_data"
        },
        {
          "name": "stdout",
          "output_type": "stream",
          "text": [
            "Epoch 1/3\n",
            "\u001b[1m469/469\u001b[0m \u001b[32m━━━━━━━━━━━━━━━━━━━━\u001b[0m\u001b[37m\u001b[0m \u001b[1m0s\u001b[0m 82ms/step - loss: 0.0833 - sparse_categorical_accuracy: 0.9747"
          ]
        },
        {
          "name": "stderr",
          "output_type": "stream",
          "text": [
            "2024/08/28 14:23:12 WARNING mlflow.utils.checkpoint_utils: Checkpoint logging is skipped, because checkpoint 'save_best_only' config is True, it requires to compare the monitored metric value, but the provided monitored metric value is not available.\n"
          ]
        },
        {
          "name": "stdout",
          "output_type": "stream",
          "text": [
            "\b\b\b\b\b\b\b\b\b\b\b\b\b\b\b\b\b\b\b\b\b\b\b\b\b\b\b\b\b\b\b\b\b\b\b\b\b\b\b\b\b\b\b\b\b\b\b\b\b\b\b\b\b\b\b\b\b\b\b\b\b\b\b\b\b\b\b\b\b\b\b\b\b\b\b\b\b\b\b\b\b\b\b\b\b\b\b\b\b\b\b\b\b\b\r\u001b[1m469/469\u001b[0m \u001b[32m━━━━━━━━━━━━━━━━━━━━\u001b[0m\u001b[37m\u001b[0m \u001b[1m39s\u001b[0m 82ms/step - loss: 0.0833 - sparse_categorical_accuracy: 0.9747\n",
            "Epoch 2/3\n",
            "\u001b[1m469/469\u001b[0m \u001b[32m━━━━━━━━━━━━━━━━━━━━\u001b[0m\u001b[37m\u001b[0m \u001b[1m0s\u001b[0m 83ms/step - loss: 0.0692 - sparse_categorical_accuracy: 0.9788"
          ]
        },
        {
          "name": "stderr",
          "output_type": "stream",
          "text": [
            "2024/08/28 14:23:53 WARNING mlflow.utils.checkpoint_utils: Checkpoint logging is skipped, because checkpoint 'save_best_only' config is True, it requires to compare the monitored metric value, but the provided monitored metric value is not available.\n"
          ]
        },
        {
          "name": "stdout",
          "output_type": "stream",
          "text": [
            "\b\b\b\b\b\b\b\b\b\b\b\b\b\b\b\b\b\b\b\b\b\b\b\b\b\b\b\b\b\b\b\b\b\b\b\b\b\b\b\b\b\b\b\b\b\b\b\b\b\b\b\b\b\b\b\b\b\b\b\b\b\b\b\b\b\b\b\b\b\b\b\b\b\b\b\b\b\b\b\b\b\b\b\b\b\b\b\b\b\b\b\b\b\b\r\u001b[1m469/469\u001b[0m \u001b[32m━━━━━━━━━━━━━━━━━━━━\u001b[0m\u001b[37m\u001b[0m \u001b[1m41s\u001b[0m 83ms/step - loss: 0.0692 - sparse_categorical_accuracy: 0.9788\n",
            "Epoch 3/3\n",
            "\u001b[1m469/469\u001b[0m \u001b[32m━━━━━━━━━━━━━━━━━━━━\u001b[0m\u001b[37m\u001b[0m \u001b[1m0s\u001b[0m 82ms/step - loss: 0.0633 - sparse_categorical_accuracy: 0.9812"
          ]
        },
        {
          "name": "stderr",
          "output_type": "stream",
          "text": [
            "2024/08/28 14:24:34 WARNING mlflow.utils.checkpoint_utils: Checkpoint logging is skipped, because checkpoint 'save_best_only' config is True, it requires to compare the monitored metric value, but the provided monitored metric value is not available.\n"
          ]
        },
        {
          "name": "stdout",
          "output_type": "stream",
          "text": [
            "\b\b\b\b\b\b\b\b\b\b\b\b\b\b\b\b\b\b\b\b\b\b\b\b\b\b\b\b\b\b\b\b\b\b\b\b\b\b\b\b\b\b\b\b\b\b\b\b\b\b\b\b\b\b\b\b\b\b\b\b\b\b\b\b\b\b\b\b\b\b\b\b\b\b\b\b\b\b\b\b\b\b\b\b\b\b\b\b\b\b\b\b\b\b\r\u001b[1m469/469\u001b[0m \u001b[32m━━━━━━━━━━━━━━━━━━━━\u001b[0m\u001b[37m\u001b[0m \u001b[1m41s\u001b[0m 82ms/step - loss: 0.0633 - sparse_categorical_accuracy: 0.9812\n"
          ]
        },
        {
          "name": "stderr",
          "output_type": "stream",
          "text": [
            "2024/08/28 14:24:34 WARNING mlflow.tensorflow: Failed to infer model signature: could not sample data to infer model signature: tuple index out of range\n",
            "2024/08/28 14:24:34 WARNING mlflow.tensorflow: You are saving a TensorFlow Core model or Keras model without a signature. Inference with mlflow.pyfunc.spark_udf() will not work unless the model's pyfunc representation accepts pandas DataFrames as inference inputs.\n",
            "2024/08/28 14:24:41 WARNING mlflow.models.model: Model logged without a signature. Signatures will be required for upcoming model registry features as they validate model inputs and denote the expected schema of model outputs. Please visit https://www.mlflow.org/docs/2.15.1/models.html#set-signature-on-logged-model for instructions on setting a model signature on your logged model.\n"
          ]
        },
        {
          "data": {
            "application/vnd.jupyter.widget-view+json": {
              "model_id": "4d17e85feaf04d979401e1d091fe419d",
              "version_major": 2,
              "version_minor": 0
            },
            "text/plain": [
              "Uploading artifacts:   0%|          | 0/7 [00:00<?, ?it/s]"
            ]
          },
          "metadata": {},
          "output_type": "display_data"
        },
        {
          "name": "stderr",
          "output_type": "stream",
          "text": [
            "2024/08/28 14:24:43 WARNING mlflow.models.model: Input example should be provided to infer model signature if the model signature is not provided when logging the model.\n"
          ]
        },
        {
          "data": {
            "application/vnd.jupyter.widget-view+json": {
              "model_id": "a4d93e9384fc45d7a85dee5bd480cb99",
              "version_major": 2,
              "version_minor": 0
            },
            "text/plain": [
              "Uploading artifacts:   0%|          | 0/1 [00:00<?, ?it/s]"
            ]
          },
          "metadata": {},
          "output_type": "display_data"
        },
        {
          "name": "stderr",
          "output_type": "stream",
          "text": [
            "2024/08/28 14:24:44 INFO mlflow.tracking._tracking_service.client: 🏃 View run invincible-skunk-753 at: https://community.cloud.databricks.com/ml/experiments/2290795855842595/runs/ba6d190013964d4a97009ab438f0be80.\n",
            "2024/08/28 14:24:44 INFO mlflow.tracking._tracking_service.client: 🧪 View experiment at: https://community.cloud.databricks.com/ml/experiments/2290795855842595.\n"
          ]
        },
        {
          "data": {
            "text/plain": [
              "<keras.src.callbacks.history.History at 0x7f317f968190>"
            ]
          },
          "execution_count": 19,
          "metadata": {},
          "output_type": "execute_result"
        }
      ],
      "source": [
        "mlflow.set_experiment(\"/mlflow-tf-keras-mnist\")\n",
        "mlflow.tensorflow.autolog()\n",
        "model.fit(x=train_ds, epochs=3)"
      ]
    },
    {
      "cell_type": "code",
      "execution_count": 20,
      "metadata": {
        "colab": {
          "base_uri": "https://localhost:8080/"
        },
        "id": "jcB6ipv2VCSG",
        "outputId": "53253178-def9-45c3-ba6c-dbf985f88d2f"
      },
      "outputs": [
        {
          "name": "stdout",
          "output_type": "stream",
          "text": [
            "\u001b[1m79/79\u001b[0m \u001b[32m━━━━━━━━━━━━━━━━━━━━\u001b[0m\u001b[37m\u001b[0m \u001b[1m3s\u001b[0m 30ms/step - loss: 0.0361 - sparse_categorical_accuracy: 0.9872\n",
            "Test loass:  0.0342\n",
            "Test accuracy:  0.99\n"
          ]
        }
      ],
      "source": [
        "score = model.evaluate(x=test_ds)\n",
        "\n",
        "print(f\"Test loass: {score[0]: .4f}\")\n",
        "print(f\"Test accuracy: {score[1]: .2f}\")"
      ]
    },
    {
      "cell_type": "markdown",
      "metadata": {
        "id": "kBBLTCjEYcwX"
      },
      "source": [
        "## Log with MLflow Callback"
      ]
    },
    {
      "cell_type": "code",
      "execution_count": 21,
      "metadata": {
        "colab": {
          "base_uri": "https://localhost:8080/",
          "height": 146
        },
        "id": "hi8TcexbYTAo",
        "outputId": "c0e607b4-32f7-4d77-8903-b0d8f6cd571e"
      },
      "outputs": [
        {
          "data": {
            "text/html": [
              "<pre style=\"white-space:pre;overflow-x:auto;line-height:normal;font-family:Menlo,'DejaVu Sans Mono',consolas,'Courier New',monospace\"></pre>\n"
            ],
            "text/plain": []
          },
          "metadata": {},
          "output_type": "display_data"
        },
        {
          "name": "stdout",
          "output_type": "stream",
          "text": [
            "Epoch 1/2\n",
            "\u001b[1m469/469\u001b[0m \u001b[32m━━━━━━━━━━━━━━━━━━━━\u001b[0m\u001b[37m\u001b[0m \u001b[1m38s\u001b[0m 82ms/step - loss: 0.0568 - sparse_categorical_accuracy: 0.9820\n",
            "Epoch 2/2\n",
            "\u001b[1m469/469\u001b[0m \u001b[32m━━━━━━━━━━━━━━━━━━━━\u001b[0m\u001b[37m\u001b[0m \u001b[1m40s\u001b[0m 80ms/step - loss: 0.0535 - sparse_categorical_accuracy: 0.9845\n"
          ]
        },
        {
          "name": "stderr",
          "output_type": "stream",
          "text": [
            "2024/08/28 14:31:15 INFO mlflow.tracking._tracking_service.client: 🏃 View run charming-goat-39 at: https://community.cloud.databricks.com/ml/experiments/2290795855842595/runs/32980f8a7cae4e4f9c69a31c8a0224fb.\n",
            "2024/08/28 14:31:15 INFO mlflow.tracking._tracking_service.client: 🧪 View experiment at: https://community.cloud.databricks.com/ml/experiments/2290795855842595.\n"
          ]
        }
      ],
      "source": [
        "from mlflow.tensorflow import  MlflowCallback\n",
        "\n",
        "# turn off outlogging\n",
        "mlflow.tensorflow.autolog(disable=True)\n",
        "\n",
        "with mlflow.start_run() as run:\n",
        "  model.fit(\n",
        "      x=train_ds,\n",
        "      epochs=2,\n",
        "      callbacks=[MlflowCallback(run)]\n",
        "  )"
      ]
    },
    {
      "cell_type": "markdown",
      "metadata": {
        "id": "GF0islVvZZCh"
      },
      "source": [
        "## Customize the MLflow Callback\n"
      ]
    },
    {
      "cell_type": "code",
      "execution_count": 22,
      "metadata": {
        "id": "t2L7FV7kZeIM"
      },
      "outputs": [],
      "source": [
        "import math\n",
        "\n",
        "# create our own callback by subclassing\n",
        "class MlflowCustomCallback(MlflowCallback):\n",
        "  def on_epoch_end(self, epoch, logs=None):\n",
        "    if not self.log_every_epoch:\n",
        "      return\n",
        "    loss = logs[\"loss\"]\n",
        "    logs[\"log_loss\"] = math.log(loss)\n",
        "    del logs[\"loss\"]\n",
        "    self.metrics_logger.record_metrics(epoch, logs)"
      ]
    },
    {
      "cell_type": "code",
      "execution_count": 24,
      "metadata": {
        "colab": {
          "base_uri": "https://localhost:8080/",
          "height": 183
        },
        "id": "GKlazaCgaxMm",
        "outputId": "335faba6-dd56-48a5-e4b8-1d40fc2e2be1"
      },
      "outputs": [
        {
          "data": {
            "text/html": [
              "<pre style=\"white-space:pre;overflow-x:auto;line-height:normal;font-family:Menlo,'DejaVu Sans Mono',consolas,'Courier New',monospace\"></pre>\n"
            ],
            "text/plain": []
          },
          "metadata": {},
          "output_type": "display_data"
        },
        {
          "name": "stdout",
          "output_type": "stream",
          "text": [
            "Epoch 1/2\n",
            "\u001b[1m469/469\u001b[0m \u001b[32m━━━━━━━━━━━━━━━━━━━━\u001b[0m\u001b[37m\u001b[0m \u001b[1m0s\u001b[0m 78ms/step - loss: 0.0527 - sparse_categorical_accuracy: 0.9844"
          ]
        },
        {
          "name": "stderr",
          "output_type": "stream",
          "text": [
            "2024/08/28 14:39:27 WARNING mlflow.utils.autologging_utils: Encountered unexpected error during autologging: 'MlflowCustomCallback' object has no attribute 'metrics_logger'\n"
          ]
        },
        {
          "name": "stdout",
          "output_type": "stream",
          "text": [
            "\b\b\b\b\b\b\b\b\b\b\b\b\b\b\b\b\b\b\b\b\b\b\b\b\b\b\b\b\b\b\b\b\b\b\b\b\b\b\b\b\b\b\b\b\b\b\b\b\b\b\b\b\b\b\b\b\b\b\b\b\b\b\b\b\b\b\b\b\b\b\b\b\b\b\b\b\b\b\b\b\b\b\b\b\b\b\b\b\b\b\b\b\b\b\r\u001b[1m469/469\u001b[0m \u001b[32m━━━━━━━━━━━━━━━━━━━━\u001b[0m\u001b[37m\u001b[0m \u001b[1m37s\u001b[0m 78ms/step - loss: 0.0527 - sparse_categorical_accuracy: 0.9844 - log_loss: -2.9953\n",
            "Epoch 2/2\n",
            "\u001b[1m469/469\u001b[0m \u001b[32m━━━━━━━━━━━━━━━━━━━━\u001b[0m\u001b[37m\u001b[0m \u001b[1m0s\u001b[0m 81ms/step - loss: 0.0471 - sparse_categorical_accuracy: 0.9851"
          ]
        },
        {
          "name": "stderr",
          "output_type": "stream",
          "text": [
            "2024/08/28 14:40:10 WARNING mlflow.utils.autologging_utils: Encountered unexpected error during autologging: 'MlflowCustomCallback' object has no attribute 'metrics_logger'\n"
          ]
        },
        {
          "name": "stdout",
          "output_type": "stream",
          "text": [
            "\b\b\b\b\b\b\b\b\b\b\b\b\b\b\b\b\b\b\b\b\b\b\b\b\b\b\b\b\b\b\b\b\b\b\b\b\b\b\b\b\b\b\b\b\b\b\b\b\b\b\b\b\b\b\b\b\b\b\b\b\b\b\b\b\b\b\b\b\b\b\b\b\b\b\b\b\b\b\b\b\b\b\b\b\b\b\b\b\b\b\b\b\b\b\r\u001b[1m469/469\u001b[0m \u001b[32m━━━━━━━━━━━━━━━━━━━━\u001b[0m\u001b[37m\u001b[0m \u001b[1m43s\u001b[0m 81ms/step - loss: 0.0471 - sparse_categorical_accuracy: 0.9851 - log_loss: -3.0774\n"
          ]
        },
        {
          "name": "stderr",
          "output_type": "stream",
          "text": [
            "2024/08/28 14:40:13 INFO mlflow.tracking._tracking_service.client: 🏃 View run loud-loon-254 at: https://community.cloud.databricks.com/ml/experiments/2290795855842595/runs/ba3d62bfcfdb418ab014bf16d37a8303.\n",
            "2024/08/28 14:40:13 INFO mlflow.tracking._tracking_service.client: 🧪 View experiment at: https://community.cloud.databricks.com/ml/experiments/2290795855842595.\n"
          ]
        }
      ],
      "source": [
        "with mlflow.start_run() as run:\n",
        "  model.fit(\n",
        "      x=train_ds,\n",
        "      epochs=2,\n",
        "      callbacks=[MlflowCustomCallback(run)]\n",
        "  )"
      ]
    },
    {
      "cell_type": "markdown",
      "metadata": {
        "id": "__qmdmaNb8c0"
      },
      "source": [
        "result for using databricks:"
      ]
    },
    {
      "cell_type": "markdown",
      "metadata": {
        "id": "V3MT28PHbn03"
      },
      "source": [
        "![Screenshot 2024-08-28 214034.png](data:image/png;base64,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)"
      ]
    },
    {
      "cell_type": "code",
      "execution_count": null,
      "metadata": {
        "id": "y9pUTz7CbBq9"
      },
      "outputs": [],
      "source": []
    }
  ],
  "metadata": {
    "colab": {
      "authorship_tag": "ABX9TyPAXam1ltvqyXtldfiz9K+D",
      "include_colab_link": true,
      "provenance": []
    },
    "kernelspec": {
      "display_name": "Python 3",
      "name": "python3"
    },
    "language_info": {
      "name": "python"
    },
    "widgets": {
      "application/vnd.jupyter.widget-state+json": {
        "02ec70e205864c0c90efa9816fedc572": {
          "model_module": "@jupyter-widgets/controls",
          "model_module_version": "1.5.0",
          "model_name": "DescriptionStyleModel",
          "state": {
            "_model_module": "@jupyter-widgets/controls",
            "_model_module_version": "1.5.0",
            "_model_name": "DescriptionStyleModel",
            "_view_count": null,
            "_view_module": "@jupyter-widgets/base",
            "_view_module_version": "1.2.0",
            "_view_name": "StyleView",
            "description_width": ""
          }
        },
        "039cdea2d3714923a09eceeb58098ea2": {
          "model_module": "@jupyter-widgets/base",
          "model_module_version": "1.2.0",
          "model_name": "LayoutModel",
          "state": {
            "_model_module": "@jupyter-widgets/base",
            "_model_module_version": "1.2.0",
            "_model_name": "LayoutModel",
            "_view_count": null,
            "_view_module": "@jupyter-widgets/base",
            "_view_module_version": "1.2.0",
            "_view_name": "LayoutView",
            "align_content": null,
            "align_items": null,
            "align_self": null,
            "border": null,
            "bottom": null,
            "display": null,
            "flex": null,
            "flex_flow": null,
            "grid_area": null,
            "grid_auto_columns": null,
            "grid_auto_flow": null,
            "grid_auto_rows": null,
            "grid_column": null,
            "grid_gap": null,
            "grid_row": null,
            "grid_template_areas": null,
            "grid_template_columns": null,
            "grid_template_rows": null,
            "height": null,
            "justify_content": null,
            "justify_items": null,
            "left": null,
            "margin": null,
            "max_height": null,
            "max_width": null,
            "min_height": null,
            "min_width": null,
            "object_fit": null,
            "object_position": null,
            "order": null,
            "overflow": null,
            "overflow_x": null,
            "overflow_y": null,
            "padding": null,
            "right": null,
            "top": null,
            "visibility": null,
            "width": null
          }
        },
        "0ed03b86ba0b46cb9d64d455b966a956": {
          "model_module": "@jupyter-widgets/controls",
          "model_module_version": "1.5.0",
          "model_name": "HTMLModel",
          "state": {
            "_dom_classes": [],
            "_model_module": "@jupyter-widgets/controls",
            "_model_module_version": "1.5.0",
            "_model_name": "HTMLModel",
            "_view_count": null,
            "_view_module": "@jupyter-widgets/controls",
            "_view_module_version": "1.5.0",
            "_view_name": "HTMLView",
            "description": "",
            "description_tooltip": null,
            "layout": "IPY_MODEL_4a1e035476fe4d8d97dc34eb44bbfa1a",
            "placeholder": "​",
            "style": "IPY_MODEL_d58f09059a2b4d1f8e43a179ba0ae1b9",
            "value": " 5/5 [00:00&lt;00:00,  6.12 file/s]"
          }
        },
        "2e7c2cd35f79495ca7c856f566b16a8b": {
          "model_module": "@jupyter-widgets/controls",
          "model_module_version": "1.5.0",
          "model_name": "DescriptionStyleModel",
          "state": {
            "_model_module": "@jupyter-widgets/controls",
            "_model_module_version": "1.5.0",
            "_model_name": "DescriptionStyleModel",
            "_view_count": null,
            "_view_module": "@jupyter-widgets/base",
            "_view_module_version": "1.2.0",
            "_view_name": "StyleView",
            "description_width": ""
          }
        },
        "3091a071d9fa4f4f88f93148776fbb8e": {
          "model_module": "@jupyter-widgets/base",
          "model_module_version": "1.2.0",
          "model_name": "LayoutModel",
          "state": {
            "_model_module": "@jupyter-widgets/base",
            "_model_module_version": "1.2.0",
            "_model_name": "LayoutModel",
            "_view_count": null,
            "_view_module": "@jupyter-widgets/base",
            "_view_module_version": "1.2.0",
            "_view_name": "LayoutView",
            "align_content": null,
            "align_items": null,
            "align_self": null,
            "border": null,
            "bottom": null,
            "display": null,
            "flex": null,
            "flex_flow": null,
            "grid_area": null,
            "grid_auto_columns": null,
            "grid_auto_flow": null,
            "grid_auto_rows": null,
            "grid_column": null,
            "grid_gap": null,
            "grid_row": null,
            "grid_template_areas": null,
            "grid_template_columns": null,
            "grid_template_rows": null,
            "height": null,
            "justify_content": null,
            "justify_items": null,
            "left": null,
            "margin": null,
            "max_height": null,
            "max_width": null,
            "min_height": null,
            "min_width": null,
            "object_fit": null,
            "object_position": null,
            "order": null,
            "overflow": null,
            "overflow_x": null,
            "overflow_y": null,
            "padding": null,
            "right": null,
            "top": null,
            "visibility": null,
            "width": null
          }
        },
        "379fdb87c62748f7b1a93ca36fe45fc7": {
          "model_module": "@jupyter-widgets/controls",
          "model_module_version": "1.5.0",
          "model_name": "FloatProgressModel",
          "state": {
            "_dom_classes": [],
            "_model_module": "@jupyter-widgets/controls",
            "_model_module_version": "1.5.0",
            "_model_name": "FloatProgressModel",
            "_view_count": null,
            "_view_module": "@jupyter-widgets/controls",
            "_view_module_version": "1.5.0",
            "_view_name": "ProgressView",
            "bar_style": "success",
            "description": "",
            "description_tooltip": null,
            "layout": "IPY_MODEL_e5b145bbca9146419f9bd79100549148",
            "max": 1,
            "min": 0,
            "orientation": "horizontal",
            "style": "IPY_MODEL_81cb1785f5a34e9b8b18f12d747867c9",
            "value": 1
          }
        },
        "3b37081c8a604a52912e6143874ce742": {
          "model_module": "@jupyter-widgets/base",
          "model_module_version": "1.2.0",
          "model_name": "LayoutModel",
          "state": {
            "_model_module": "@jupyter-widgets/base",
            "_model_module_version": "1.2.0",
            "_model_name": "LayoutModel",
            "_view_count": null,
            "_view_module": "@jupyter-widgets/base",
            "_view_module_version": "1.2.0",
            "_view_name": "LayoutView",
            "align_content": null,
            "align_items": null,
            "align_self": null,
            "border": null,
            "bottom": null,
            "display": null,
            "flex": null,
            "flex_flow": null,
            "grid_area": null,
            "grid_auto_columns": null,
            "grid_auto_flow": null,
            "grid_auto_rows": null,
            "grid_column": null,
            "grid_gap": null,
            "grid_row": null,
            "grid_template_areas": null,
            "grid_template_columns": null,
            "grid_template_rows": null,
            "height": null,
            "justify_content": null,
            "justify_items": null,
            "left": null,
            "margin": null,
            "max_height": null,
            "max_width": null,
            "min_height": null,
            "min_width": null,
            "object_fit": null,
            "object_position": null,
            "order": null,
            "overflow": null,
            "overflow_x": null,
            "overflow_y": null,
            "padding": null,
            "right": null,
            "top": null,
            "visibility": null,
            "width": null
          }
        },
        "3eb1a7d6683141879d2880586eb0f92a": {
          "model_module": "@jupyter-widgets/controls",
          "model_module_version": "1.5.0",
          "model_name": "DescriptionStyleModel",
          "state": {
            "_model_module": "@jupyter-widgets/controls",
            "_model_module_version": "1.5.0",
            "_model_name": "DescriptionStyleModel",
            "_view_count": null,
            "_view_module": "@jupyter-widgets/base",
            "_view_module_version": "1.2.0",
            "_view_name": "StyleView",
            "description_width": ""
          }
        },
        "46186e489ed446b19835b490ea8d4a52": {
          "model_module": "@jupyter-widgets/base",
          "model_module_version": "1.2.0",
          "model_name": "LayoutModel",
          "state": {
            "_model_module": "@jupyter-widgets/base",
            "_model_module_version": "1.2.0",
            "_model_name": "LayoutModel",
            "_view_count": null,
            "_view_module": "@jupyter-widgets/base",
            "_view_module_version": "1.2.0",
            "_view_name": "LayoutView",
            "align_content": null,
            "align_items": null,
            "align_self": null,
            "border": null,
            "bottom": null,
            "display": null,
            "flex": null,
            "flex_flow": null,
            "grid_area": null,
            "grid_auto_columns": null,
            "grid_auto_flow": null,
            "grid_auto_rows": null,
            "grid_column": null,
            "grid_gap": null,
            "grid_row": null,
            "grid_template_areas": null,
            "grid_template_columns": null,
            "grid_template_rows": null,
            "height": null,
            "justify_content": null,
            "justify_items": null,
            "left": null,
            "margin": null,
            "max_height": null,
            "max_width": null,
            "min_height": null,
            "min_width": null,
            "object_fit": null,
            "object_position": null,
            "order": null,
            "overflow": null,
            "overflow_x": null,
            "overflow_y": null,
            "padding": null,
            "right": null,
            "top": null,
            "visibility": null,
            "width": null
          }
        },
        "49aa0541283549cbb773305c25147c8d": {
          "model_module": "@jupyter-widgets/controls",
          "model_module_version": "1.5.0",
          "model_name": "ProgressStyleModel",
          "state": {
            "_model_module": "@jupyter-widgets/controls",
            "_model_module_version": "1.5.0",
            "_model_name": "ProgressStyleModel",
            "_view_count": null,
            "_view_module": "@jupyter-widgets/base",
            "_view_module_version": "1.2.0",
            "_view_name": "StyleView",
            "bar_color": null,
            "description_width": ""
          }
        },
        "4a1e035476fe4d8d97dc34eb44bbfa1a": {
          "model_module": "@jupyter-widgets/base",
          "model_module_version": "1.2.0",
          "model_name": "LayoutModel",
          "state": {
            "_model_module": "@jupyter-widgets/base",
            "_model_module_version": "1.2.0",
            "_model_name": "LayoutModel",
            "_view_count": null,
            "_view_module": "@jupyter-widgets/base",
            "_view_module_version": "1.2.0",
            "_view_name": "LayoutView",
            "align_content": null,
            "align_items": null,
            "align_self": null,
            "border": null,
            "bottom": null,
            "display": null,
            "flex": null,
            "flex_flow": null,
            "grid_area": null,
            "grid_auto_columns": null,
            "grid_auto_flow": null,
            "grid_auto_rows": null,
            "grid_column": null,
            "grid_gap": null,
            "grid_row": null,
            "grid_template_areas": null,
            "grid_template_columns": null,
            "grid_template_rows": null,
            "height": null,
            "justify_content": null,
            "justify_items": null,
            "left": null,
            "margin": null,
            "max_height": null,
            "max_width": null,
            "min_height": null,
            "min_width": null,
            "object_fit": null,
            "object_position": null,
            "order": null,
            "overflow": null,
            "overflow_x": null,
            "overflow_y": null,
            "padding": null,
            "right": null,
            "top": null,
            "visibility": null,
            "width": null
          }
        },
        "4d17e85feaf04d979401e1d091fe419d": {
          "model_module": "@jupyter-widgets/controls",
          "model_module_version": "1.5.0",
          "model_name": "HBoxModel",
          "state": {
            "_dom_classes": [],
            "_model_module": "@jupyter-widgets/controls",
            "_model_module_version": "1.5.0",
            "_model_name": "HBoxModel",
            "_view_count": null,
            "_view_module": "@jupyter-widgets/controls",
            "_view_module_version": "1.5.0",
            "_view_name": "HBoxView",
            "box_style": "",
            "children": [
              "IPY_MODEL_e489c33d2a074e60805177f2ff877b80",
              "IPY_MODEL_75fb1a9e711c4aa0a658d1f448be7f0a",
              "IPY_MODEL_bee79257d73946f2b34c87ca96d678c8"
            ],
            "layout": "IPY_MODEL_7501d46440c540e7bb91b5985b3a24fa"
          }
        },
        "5f3419d2ca8c47cc9d4b5d520f0dbf8e": {
          "model_module": "@jupyter-widgets/base",
          "model_module_version": "1.2.0",
          "model_name": "LayoutModel",
          "state": {
            "_model_module": "@jupyter-widgets/base",
            "_model_module_version": "1.2.0",
            "_model_name": "LayoutModel",
            "_view_count": null,
            "_view_module": "@jupyter-widgets/base",
            "_view_module_version": "1.2.0",
            "_view_name": "LayoutView",
            "align_content": null,
            "align_items": null,
            "align_self": null,
            "border": null,
            "bottom": null,
            "display": null,
            "flex": null,
            "flex_flow": null,
            "grid_area": null,
            "grid_auto_columns": null,
            "grid_auto_flow": null,
            "grid_auto_rows": null,
            "grid_column": null,
            "grid_gap": null,
            "grid_row": null,
            "grid_template_areas": null,
            "grid_template_columns": null,
            "grid_template_rows": null,
            "height": null,
            "justify_content": null,
            "justify_items": null,
            "left": null,
            "margin": null,
            "max_height": null,
            "max_width": null,
            "min_height": null,
            "min_width": null,
            "object_fit": null,
            "object_position": null,
            "order": null,
            "overflow": null,
            "overflow_x": null,
            "overflow_y": null,
            "padding": null,
            "right": null,
            "top": null,
            "visibility": null,
            "width": null
          }
        },
        "7501d46440c540e7bb91b5985b3a24fa": {
          "model_module": "@jupyter-widgets/base",
          "model_module_version": "1.2.0",
          "model_name": "LayoutModel",
          "state": {
            "_model_module": "@jupyter-widgets/base",
            "_model_module_version": "1.2.0",
            "_model_name": "LayoutModel",
            "_view_count": null,
            "_view_module": "@jupyter-widgets/base",
            "_view_module_version": "1.2.0",
            "_view_name": "LayoutView",
            "align_content": null,
            "align_items": null,
            "align_self": null,
            "border": null,
            "bottom": null,
            "display": null,
            "flex": null,
            "flex_flow": null,
            "grid_area": null,
            "grid_auto_columns": null,
            "grid_auto_flow": null,
            "grid_auto_rows": null,
            "grid_column": null,
            "grid_gap": null,
            "grid_row": null,
            "grid_template_areas": null,
            "grid_template_columns": null,
            "grid_template_rows": null,
            "height": null,
            "justify_content": null,
            "justify_items": null,
            "left": null,
            "margin": null,
            "max_height": null,
            "max_width": null,
            "min_height": null,
            "min_width": null,
            "object_fit": null,
            "object_position": null,
            "order": null,
            "overflow": null,
            "overflow_x": null,
            "overflow_y": null,
            "padding": null,
            "right": null,
            "top": null,
            "visibility": null,
            "width": null
          }
        },
        "75fb1a9e711c4aa0a658d1f448be7f0a": {
          "model_module": "@jupyter-widgets/controls",
          "model_module_version": "1.5.0",
          "model_name": "FloatProgressModel",
          "state": {
            "_dom_classes": [],
            "_model_module": "@jupyter-widgets/controls",
            "_model_module_version": "1.5.0",
            "_model_name": "FloatProgressModel",
            "_view_count": null,
            "_view_module": "@jupyter-widgets/controls",
            "_view_module_version": "1.5.0",
            "_view_name": "ProgressView",
            "bar_style": "success",
            "description": "",
            "description_tooltip": null,
            "layout": "IPY_MODEL_f4b6d7c607984208893a52faa5b95763",
            "max": 7,
            "min": 0,
            "orientation": "horizontal",
            "style": "IPY_MODEL_9a5827ce486e4d4fae8dc4382a9eaa67",
            "value": 7
          }
        },
        "7e197a54910c4755be9d3475f942204b": {
          "model_module": "@jupyter-widgets/controls",
          "model_module_version": "1.5.0",
          "model_name": "HTMLModel",
          "state": {
            "_dom_classes": [],
            "_model_module": "@jupyter-widgets/controls",
            "_model_module_version": "1.5.0",
            "_model_name": "HTMLModel",
            "_view_count": null,
            "_view_module": "@jupyter-widgets/controls",
            "_view_module_version": "1.5.0",
            "_view_name": "HTMLView",
            "description": "",
            "description_tooltip": null,
            "layout": "IPY_MODEL_3b37081c8a604a52912e6143874ce742",
            "placeholder": "​",
            "style": "IPY_MODEL_a7d13e60fe2742389a6500d9588c45b2",
            "value": " 1/1 [00:00&lt;00:00,  1.24it/s]"
          }
        },
        "81cb1785f5a34e9b8b18f12d747867c9": {
          "model_module": "@jupyter-widgets/controls",
          "model_module_version": "1.5.0",
          "model_name": "ProgressStyleModel",
          "state": {
            "_model_module": "@jupyter-widgets/controls",
            "_model_module_version": "1.5.0",
            "_model_name": "ProgressStyleModel",
            "_view_count": null,
            "_view_module": "@jupyter-widgets/base",
            "_view_module_version": "1.2.0",
            "_view_name": "StyleView",
            "bar_color": null,
            "description_width": ""
          }
        },
        "84d9e20265c34a7692188b82e8ac2206": {
          "model_module": "@jupyter-widgets/base",
          "model_module_version": "1.2.0",
          "model_name": "LayoutModel",
          "state": {
            "_model_module": "@jupyter-widgets/base",
            "_model_module_version": "1.2.0",
            "_model_name": "LayoutModel",
            "_view_count": null,
            "_view_module": "@jupyter-widgets/base",
            "_view_module_version": "1.2.0",
            "_view_name": "LayoutView",
            "align_content": null,
            "align_items": null,
            "align_self": null,
            "border": null,
            "bottom": null,
            "display": null,
            "flex": null,
            "flex_flow": null,
            "grid_area": null,
            "grid_auto_columns": null,
            "grid_auto_flow": null,
            "grid_auto_rows": null,
            "grid_column": null,
            "grid_gap": null,
            "grid_row": null,
            "grid_template_areas": null,
            "grid_template_columns": null,
            "grid_template_rows": null,
            "height": null,
            "justify_content": null,
            "justify_items": null,
            "left": null,
            "margin": null,
            "max_height": null,
            "max_width": null,
            "min_height": null,
            "min_width": null,
            "object_fit": null,
            "object_position": null,
            "order": null,
            "overflow": null,
            "overflow_x": null,
            "overflow_y": null,
            "padding": null,
            "right": null,
            "top": null,
            "visibility": null,
            "width": null
          }
        },
        "88216bc8e37940baae78e1f1f3c3095f": {
          "model_module": "@jupyter-widgets/controls",
          "model_module_version": "1.5.0",
          "model_name": "FloatProgressModel",
          "state": {
            "_dom_classes": [],
            "_model_module": "@jupyter-widgets/controls",
            "_model_module_version": "1.5.0",
            "_model_name": "FloatProgressModel",
            "_view_count": null,
            "_view_module": "@jupyter-widgets/controls",
            "_view_module_version": "1.5.0",
            "_view_name": "ProgressView",
            "bar_style": "success",
            "description": "",
            "description_tooltip": null,
            "layout": "IPY_MODEL_039cdea2d3714923a09eceeb58098ea2",
            "max": 5,
            "min": 0,
            "orientation": "horizontal",
            "style": "IPY_MODEL_49aa0541283549cbb773305c25147c8d",
            "value": 5
          }
        },
        "9a5827ce486e4d4fae8dc4382a9eaa67": {
          "model_module": "@jupyter-widgets/controls",
          "model_module_version": "1.5.0",
          "model_name": "ProgressStyleModel",
          "state": {
            "_model_module": "@jupyter-widgets/controls",
            "_model_module_version": "1.5.0",
            "_model_name": "ProgressStyleModel",
            "_view_count": null,
            "_view_module": "@jupyter-widgets/base",
            "_view_module_version": "1.2.0",
            "_view_name": "StyleView",
            "bar_color": null,
            "description_width": ""
          }
        },
        "9b7b432c15b1407c837c06b945cd5fe6": {
          "model_module": "@jupyter-widgets/base",
          "model_module_version": "1.2.0",
          "model_name": "LayoutModel",
          "state": {
            "_model_module": "@jupyter-widgets/base",
            "_model_module_version": "1.2.0",
            "_model_name": "LayoutModel",
            "_view_count": null,
            "_view_module": "@jupyter-widgets/base",
            "_view_module_version": "1.2.0",
            "_view_name": "LayoutView",
            "align_content": null,
            "align_items": null,
            "align_self": null,
            "border": null,
            "bottom": null,
            "display": null,
            "flex": null,
            "flex_flow": null,
            "grid_area": null,
            "grid_auto_columns": null,
            "grid_auto_flow": null,
            "grid_auto_rows": null,
            "grid_column": null,
            "grid_gap": null,
            "grid_row": null,
            "grid_template_areas": null,
            "grid_template_columns": null,
            "grid_template_rows": null,
            "height": null,
            "justify_content": null,
            "justify_items": null,
            "left": null,
            "margin": null,
            "max_height": null,
            "max_width": null,
            "min_height": null,
            "min_width": null,
            "object_fit": null,
            "object_position": null,
            "order": null,
            "overflow": null,
            "overflow_x": null,
            "overflow_y": null,
            "padding": null,
            "right": null,
            "top": null,
            "visibility": null,
            "width": null
          }
        },
        "9bfc40ab2dfc4962ba5d3ea7992eff48": {
          "model_module": "@jupyter-widgets/base",
          "model_module_version": "1.2.0",
          "model_name": "LayoutModel",
          "state": {
            "_model_module": "@jupyter-widgets/base",
            "_model_module_version": "1.2.0",
            "_model_name": "LayoutModel",
            "_view_count": null,
            "_view_module": "@jupyter-widgets/base",
            "_view_module_version": "1.2.0",
            "_view_name": "LayoutView",
            "align_content": null,
            "align_items": null,
            "align_self": null,
            "border": null,
            "bottom": null,
            "display": null,
            "flex": null,
            "flex_flow": null,
            "grid_area": null,
            "grid_auto_columns": null,
            "grid_auto_flow": null,
            "grid_auto_rows": null,
            "grid_column": null,
            "grid_gap": null,
            "grid_row": null,
            "grid_template_areas": null,
            "grid_template_columns": null,
            "grid_template_rows": null,
            "height": null,
            "justify_content": null,
            "justify_items": null,
            "left": null,
            "margin": null,
            "max_height": null,
            "max_width": null,
            "min_height": null,
            "min_width": null,
            "object_fit": null,
            "object_position": null,
            "order": null,
            "overflow": null,
            "overflow_x": null,
            "overflow_y": null,
            "padding": null,
            "right": null,
            "top": null,
            "visibility": null,
            "width": null
          }
        },
        "a0434568a93444a2a27639faea703dc4": {
          "model_module": "@jupyter-widgets/controls",
          "model_module_version": "1.5.0",
          "model_name": "HBoxModel",
          "state": {
            "_dom_classes": [],
            "_model_module": "@jupyter-widgets/controls",
            "_model_module_version": "1.5.0",
            "_model_name": "HBoxModel",
            "_view_count": null,
            "_view_module": "@jupyter-widgets/controls",
            "_view_module_version": "1.5.0",
            "_view_name": "HBoxView",
            "box_style": "",
            "children": [
              "IPY_MODEL_a360cbc4eccd4bb7b319ea44758861c7",
              "IPY_MODEL_88216bc8e37940baae78e1f1f3c3095f",
              "IPY_MODEL_0ed03b86ba0b46cb9d64d455b966a956"
            ],
            "layout": "IPY_MODEL_46186e489ed446b19835b490ea8d4a52"
          }
        },
        "a360cbc4eccd4bb7b319ea44758861c7": {
          "model_module": "@jupyter-widgets/controls",
          "model_module_version": "1.5.0",
          "model_name": "HTMLModel",
          "state": {
            "_dom_classes": [],
            "_model_module": "@jupyter-widgets/controls",
            "_model_module_version": "1.5.0",
            "_model_name": "HTMLModel",
            "_view_count": null,
            "_view_module": "@jupyter-widgets/controls",
            "_view_module_version": "1.5.0",
            "_view_name": "HTMLView",
            "description": "",
            "description_tooltip": null,
            "layout": "IPY_MODEL_5f3419d2ca8c47cc9d4b5d520f0dbf8e",
            "placeholder": "​",
            "style": "IPY_MODEL_3eb1a7d6683141879d2880586eb0f92a",
            "value": "Dl Completed...: 100%"
          }
        },
        "a4d93e9384fc45d7a85dee5bd480cb99": {
          "model_module": "@jupyter-widgets/controls",
          "model_module_version": "1.5.0",
          "model_name": "HBoxModel",
          "state": {
            "_dom_classes": [],
            "_model_module": "@jupyter-widgets/controls",
            "_model_module_version": "1.5.0",
            "_model_name": "HBoxModel",
            "_view_count": null,
            "_view_module": "@jupyter-widgets/controls",
            "_view_module_version": "1.5.0",
            "_view_name": "HBoxView",
            "box_style": "",
            "children": [
              "IPY_MODEL_fc9d40b9093e404a89ede65753c4560d",
              "IPY_MODEL_379fdb87c62748f7b1a93ca36fe45fc7",
              "IPY_MODEL_7e197a54910c4755be9d3475f942204b"
            ],
            "layout": "IPY_MODEL_9b7b432c15b1407c837c06b945cd5fe6"
          }
        },
        "a7d13e60fe2742389a6500d9588c45b2": {
          "model_module": "@jupyter-widgets/controls",
          "model_module_version": "1.5.0",
          "model_name": "DescriptionStyleModel",
          "state": {
            "_model_module": "@jupyter-widgets/controls",
            "_model_module_version": "1.5.0",
            "_model_name": "DescriptionStyleModel",
            "_view_count": null,
            "_view_module": "@jupyter-widgets/base",
            "_view_module_version": "1.2.0",
            "_view_name": "StyleView",
            "description_width": ""
          }
        },
        "bee79257d73946f2b34c87ca96d678c8": {
          "model_module": "@jupyter-widgets/controls",
          "model_module_version": "1.5.0",
          "model_name": "HTMLModel",
          "state": {
            "_dom_classes": [],
            "_model_module": "@jupyter-widgets/controls",
            "_model_module_version": "1.5.0",
            "_model_name": "HTMLModel",
            "_view_count": null,
            "_view_module": "@jupyter-widgets/controls",
            "_view_module_version": "1.5.0",
            "_view_name": "HTMLView",
            "description": "",
            "description_tooltip": null,
            "layout": "IPY_MODEL_3091a071d9fa4f4f88f93148776fbb8e",
            "placeholder": "​",
            "style": "IPY_MODEL_2e7c2cd35f79495ca7c856f566b16a8b",
            "value": " 7/7 [00:01&lt;00:00,  4.73it/s]"
          }
        },
        "d58f09059a2b4d1f8e43a179ba0ae1b9": {
          "model_module": "@jupyter-widgets/controls",
          "model_module_version": "1.5.0",
          "model_name": "DescriptionStyleModel",
          "state": {
            "_model_module": "@jupyter-widgets/controls",
            "_model_module_version": "1.5.0",
            "_model_name": "DescriptionStyleModel",
            "_view_count": null,
            "_view_module": "@jupyter-widgets/base",
            "_view_module_version": "1.2.0",
            "_view_name": "StyleView",
            "description_width": ""
          }
        },
        "e3811553e6d14579ae35ef5ed9d2f0a2": {
          "model_module": "@jupyter-widgets/controls",
          "model_module_version": "1.5.0",
          "model_name": "DescriptionStyleModel",
          "state": {
            "_model_module": "@jupyter-widgets/controls",
            "_model_module_version": "1.5.0",
            "_model_name": "DescriptionStyleModel",
            "_view_count": null,
            "_view_module": "@jupyter-widgets/base",
            "_view_module_version": "1.2.0",
            "_view_name": "StyleView",
            "description_width": ""
          }
        },
        "e489c33d2a074e60805177f2ff877b80": {
          "model_module": "@jupyter-widgets/controls",
          "model_module_version": "1.5.0",
          "model_name": "HTMLModel",
          "state": {
            "_dom_classes": [],
            "_model_module": "@jupyter-widgets/controls",
            "_model_module_version": "1.5.0",
            "_model_name": "HTMLModel",
            "_view_count": null,
            "_view_module": "@jupyter-widgets/controls",
            "_view_module_version": "1.5.0",
            "_view_name": "HTMLView",
            "description": "",
            "description_tooltip": null,
            "layout": "IPY_MODEL_84d9e20265c34a7692188b82e8ac2206",
            "placeholder": "​",
            "style": "IPY_MODEL_e3811553e6d14579ae35ef5ed9d2f0a2",
            "value": "Uploading artifacts: 100%"
          }
        },
        "e5b145bbca9146419f9bd79100549148": {
          "model_module": "@jupyter-widgets/base",
          "model_module_version": "1.2.0",
          "model_name": "LayoutModel",
          "state": {
            "_model_module": "@jupyter-widgets/base",
            "_model_module_version": "1.2.0",
            "_model_name": "LayoutModel",
            "_view_count": null,
            "_view_module": "@jupyter-widgets/base",
            "_view_module_version": "1.2.0",
            "_view_name": "LayoutView",
            "align_content": null,
            "align_items": null,
            "align_self": null,
            "border": null,
            "bottom": null,
            "display": null,
            "flex": null,
            "flex_flow": null,
            "grid_area": null,
            "grid_auto_columns": null,
            "grid_auto_flow": null,
            "grid_auto_rows": null,
            "grid_column": null,
            "grid_gap": null,
            "grid_row": null,
            "grid_template_areas": null,
            "grid_template_columns": null,
            "grid_template_rows": null,
            "height": null,
            "justify_content": null,
            "justify_items": null,
            "left": null,
            "margin": null,
            "max_height": null,
            "max_width": null,
            "min_height": null,
            "min_width": null,
            "object_fit": null,
            "object_position": null,
            "order": null,
            "overflow": null,
            "overflow_x": null,
            "overflow_y": null,
            "padding": null,
            "right": null,
            "top": null,
            "visibility": null,
            "width": null
          }
        },
        "f4b6d7c607984208893a52faa5b95763": {
          "model_module": "@jupyter-widgets/base",
          "model_module_version": "1.2.0",
          "model_name": "LayoutModel",
          "state": {
            "_model_module": "@jupyter-widgets/base",
            "_model_module_version": "1.2.0",
            "_model_name": "LayoutModel",
            "_view_count": null,
            "_view_module": "@jupyter-widgets/base",
            "_view_module_version": "1.2.0",
            "_view_name": "LayoutView",
            "align_content": null,
            "align_items": null,
            "align_self": null,
            "border": null,
            "bottom": null,
            "display": null,
            "flex": null,
            "flex_flow": null,
            "grid_area": null,
            "grid_auto_columns": null,
            "grid_auto_flow": null,
            "grid_auto_rows": null,
            "grid_column": null,
            "grid_gap": null,
            "grid_row": null,
            "grid_template_areas": null,
            "grid_template_columns": null,
            "grid_template_rows": null,
            "height": null,
            "justify_content": null,
            "justify_items": null,
            "left": null,
            "margin": null,
            "max_height": null,
            "max_width": null,
            "min_height": null,
            "min_width": null,
            "object_fit": null,
            "object_position": null,
            "order": null,
            "overflow": null,
            "overflow_x": null,
            "overflow_y": null,
            "padding": null,
            "right": null,
            "top": null,
            "visibility": null,
            "width": null
          }
        },
        "fc9d40b9093e404a89ede65753c4560d": {
          "model_module": "@jupyter-widgets/controls",
          "model_module_version": "1.5.0",
          "model_name": "HTMLModel",
          "state": {
            "_dom_classes": [],
            "_model_module": "@jupyter-widgets/controls",
            "_model_module_version": "1.5.0",
            "_model_name": "HTMLModel",
            "_view_count": null,
            "_view_module": "@jupyter-widgets/controls",
            "_view_module_version": "1.5.0",
            "_view_name": "HTMLView",
            "description": "",
            "description_tooltip": null,
            "layout": "IPY_MODEL_9bfc40ab2dfc4962ba5d3ea7992eff48",
            "placeholder": "​",
            "style": "IPY_MODEL_02ec70e205864c0c90efa9816fedc572",
            "value": "Uploading artifacts: 100%"
          }
        }
      }
    }
  },
  "nbformat": 4,
  "nbformat_minor": 0
}
